{
 "cells": [
  {
   "cell_type": "code",
   "execution_count": 5,
   "id": "f05e8aec",
   "metadata": {},
   "outputs": [
    {
     "name": "stdout",
     "output_type": "stream",
     "text": [
      "Enter a number : -5\n",
      "-5 is negative\n"
     ]
    }
   ],
   "source": [
    "#Write a Python program to check if a number is positive, negative or zero\n",
    "x=int(input(\"Enter a number : \"))\n",
    "if x==0:\n",
    "    print(\"You entered Zero\")\n",
    "elif x>0:\n",
    "    print(x,\"is positive\")\n",
    "else:\n",
    "    print(x,\"is negative\")"
   ]
  },
  {
   "cell_type": "code",
   "execution_count": 13,
   "id": "5ec1d06e",
   "metadata": {},
   "outputs": [
    {
     "name": "stdout",
     "output_type": "stream",
     "text": [
      "Enter a number : 5\n",
      "Factorial is :  120\n"
     ]
    }
   ],
   "source": [
    "#Write a Python program to get the Factorial number of given number\n",
    "x=int(input(\"Enter a number : \"))\n",
    "y=1\n",
    "if x==0 or x==1:\n",
    "    print(\"Factorial is : \",1)\n",
    "else:\n",
    "    for i in range(1,x+1,1):\n",
    "        y=y*i\n",
    "    print(\"Factorial is : \",y)"
   ]
  },
  {
   "cell_type": "code",
   "execution_count": 16,
   "id": "84f3a19c",
   "metadata": {},
   "outputs": [
    {
     "name": "stdout",
     "output_type": "stream",
     "text": [
      "Enter a number : 10\n",
      "0,1,1,2,3,5,8,13,21,34,55,"
     ]
    }
   ],
   "source": [
    "#Write a Python program to get the Fibonacci series of given range\n",
    "x=int(input(\"Enter a number : \"))\n",
    "a=0\n",
    "b=1\n",
    "print(a,end=\",\")\n",
    "print(b,end=\",\")\n",
    "for i in range(1,x,1):\n",
    "    c=a+b\n",
    "    print(c,end=\",\")\n",
    "    a=b\n",
    "    b=c"
   ]
  },
  {
   "cell_type": "code",
   "execution_count": 17,
   "id": "f9ec4ff3",
   "metadata": {},
   "outputs": [],
   "source": [
    "#How memory is managed in Python?\n",
    "#Ans-When object is created in Python,Memory is allocated from heap."
   ]
  },
  {
   "cell_type": "code",
   "execution_count": 18,
   "id": "086d325c",
   "metadata": {},
   "outputs": [],
   "source": [
    "#What is the purpose continue statement in python?\n",
    "#Ans-Continue is used to skip a particular portion in python."
   ]
  },
  {
   "cell_type": "code",
   "execution_count": 21,
   "id": "03379947",
   "metadata": {},
   "outputs": [
    {
     "name": "stdout",
     "output_type": "stream",
     "text": [
      "a :  5\n",
      "b :  6\n",
      "******************************\n",
      "a :  6\n",
      "b :  5\n"
     ]
    }
   ],
   "source": [
    "#Write python program that swap two number with temp variable and without temp variable.\n",
    "a=5\n",
    "b=6\n",
    "print(\"a : \",a)\n",
    "print(\"b : \",b)\n",
    "print(\"*\"*30)\n",
    "temp=b\n",
    "b=a\n",
    "a=temp\n",
    "print(\"a : \",a)\n",
    "print(\"b : \",b)"
   ]
  },
  {
   "cell_type": "code",
   "execution_count": 26,
   "id": "288147c6",
   "metadata": {},
   "outputs": [
    {
     "name": "stdout",
     "output_type": "stream",
     "text": [
      "Enter a number : 6\n",
      "6 is even\n"
     ]
    }
   ],
   "source": [
    "#Write a Python program to find whether a given number is even or odd,\n",
    "#print out an appropriate message to the user.\n",
    "\n",
    "x=int(input(\"Enter a number : \"))\n",
    "if x==0:\n",
    "    print(\"You entered Zero\")\n",
    "elif x%2==0:\n",
    "    print(x,\"is even\")\n",
    "else:\n",
    "    print(x,\"is odd\")"
   ]
  },
  {
   "cell_type": "code",
   "execution_count": 29,
   "id": "4c28eb62",
   "metadata": {},
   "outputs": [
    {
     "name": "stdout",
     "output_type": "stream",
     "text": [
      "Enter a character : o\n",
      "o is VOWEL\n"
     ]
    }
   ],
   "source": [
    "#Write a Python program to test whether a passed letter is a vowel or not.\n",
    "x=input(\"Enter a character : \")\n",
    "a=['a','e','i','o','u','A','E','I','O','U']\n",
    "if x in a:\n",
    "    print(x,'is VOWEL')\n",
    "else :\n",
    "    print(x,'is CONSONENT')"
   ]
  },
  {
   "cell_type": "code",
   "execution_count": 33,
   "id": "57a58f88",
   "metadata": {},
   "outputs": [
    {
     "name": "stdout",
     "output_type": "stream",
     "text": [
      "Enter first number : 2\n",
      "Enter second number : 3\n",
      "Enter third number : 2\n",
      "Sum is 0\n"
     ]
    }
   ],
   "source": [
    "#Write a Python program to sum of three given integers. However, if\n",
    "#two values are equal sum will be zero.\n",
    "\n",
    "a=int(input(\"Enter first number : \"))\n",
    "b=int(input(\"Enter second number : \"))\n",
    "c=int(input(\"Enter third number : \"))\n",
    "\n",
    "if((a==b)or(b==c)or(c==a)):\n",
    "    print(\"Sum is\",0)\n",
    "else:\n",
    "    print(\"Sum is\",a+b+c)"
   ]
  },
  {
   "cell_type": "code",
   "execution_count": 2,
   "id": "a5559aa4",
   "metadata": {},
   "outputs": [
    {
     "name": "stdout",
     "output_type": "stream",
     "text": [
      "Enter first number : 7\n",
      "Enter second number : 1\n",
      "False\n"
     ]
    }
   ],
   "source": [
    "#Write a Python program that will return true if the two given integer\n",
    "#values are equal or their sum or difference is 5.\n",
    "\n",
    "a=int(input(\"Enter first number : \"))\n",
    "b=int(input(\"Enter second number : \"))\n",
    "\n",
    "if a==b:\n",
    "    print(True)\n",
    "elif a+b==5:\n",
    "    print(True)\n",
    "elif (a-b==5)or(b-a==5):\n",
    "    print(True)\n",
    "else:\n",
    "    print(False)"
   ]
  },
  {
   "cell_type": "code",
   "execution_count": 9,
   "id": "21c4de25",
   "metadata": {},
   "outputs": [
    {
     "name": "stdout",
     "output_type": "stream",
     "text": [
      "Enter a number : 4\n",
      "10\n"
     ]
    }
   ],
   "source": [
    "#Write a python program to sum of the first n positive integers.\n",
    "\n",
    "n=int(input(\"Enter a number : \"))\n",
    "sum=0\n",
    "for i in range(1,n+1):\n",
    "    sum=sum+i\n",
    "print(sum)"
   ]
  },
  {
   "cell_type": "code",
   "execution_count": 13,
   "id": "46c8ce43",
   "metadata": {},
   "outputs": [
    {
     "name": "stdout",
     "output_type": "stream",
     "text": [
      "Enter a String : Khelan\n",
      "6\n"
     ]
    }
   ],
   "source": [
    "#Write a Python program to calculate the length of a string.\n",
    "x=input(\"Enter a String : \")\n",
    "l=len(x)\n",
    "print(l)"
   ]
  },
  {
   "cell_type": "code",
   "execution_count": 21,
   "id": "2117236b",
   "metadata": {},
   "outputs": [
    {
     "name": "stdout",
     "output_type": "stream",
     "text": [
      "Enter a String : Ajab Prem ki gajab kahani\n",
      "{'A': 1, 'j': 2, 'a': 5, 'b': 2, ' ': 4, 'P': 1, 'r': 1, 'e': 1, 'm': 1, 'k': 2, 'i': 2, 'g': 1, 'h': 1, 'n': 1}\n"
     ]
    }
   ],
   "source": [
    "#Write a Python program to count the number of characters (character frequency) in a string\n",
    "\n",
    "x=input(\"Enter a String : \")\n",
    "l={}\n",
    "for i in x:\n",
    "    if i in l:\n",
    "        l[i]=l[i]+1\n",
    "    else:\n",
    "        l[i]=1\n",
    "print(l)"
   ]
  },
  {
   "cell_type": "code",
   "execution_count": 22,
   "id": "eb927741",
   "metadata": {},
   "outputs": [],
   "source": [
    "#What are negative indexes and why are they used?\n",
    "#Ans-Negative indexes are used to fetch the string from the end."
   ]
  },
  {
   "cell_type": "code",
   "execution_count": 25,
   "id": "f24c0e0d",
   "metadata": {},
   "outputs": [
    {
     "name": "stdout",
     "output_type": "stream",
     "text": [
      "Enter a Sentence : This is demo is is demo that\n",
      "{'This': 1, 'is': 3, 'demo': 2, 'that': 1}\n"
     ]
    }
   ],
   "source": [
    "#Write a Python program to count occurrences of a substring in a string.\n",
    "x=input(\"Enter a Sentence : \")\n",
    "y=x.split(\" \")\n",
    "l={}\n",
    "for i in y:\n",
    "    if i in l:\n",
    "        l[i]=l[i]+1\n",
    "    else:\n",
    "        l[i]=1\n",
    "print(l)"
   ]
  },
  {
   "cell_type": "code",
   "execution_count": 26,
   "id": "4ffed28b",
   "metadata": {},
   "outputs": [
    {
     "name": "stdout",
     "output_type": "stream",
     "text": [
      "Enter a Sentence : I wanna be your slave I wanna be your master\n",
      "{'I': 2, ' ': 9, 'w': 2, 'a': 6, 'n': 4, 'b': 2, 'e': 4, 'y': 2, 'o': 2, 'u': 2, 'r': 3, 's': 2, 'l': 1, 'v': 1, 'm': 1, 't': 1}\n"
     ]
    }
   ],
   "source": [
    "#Write a Python program to count the occurrences of each word in a given sentence\n",
    "x=input(\"Enter a Sentence : \")\n",
    "l={}\n",
    "for i in x:\n",
    "    if i in l:\n",
    "        l[i]=l[i]+1\n",
    "    else:\n",
    "        l[i]=1\n",
    "print(l)"
   ]
  },
  {
   "cell_type": "code",
   "execution_count": 32,
   "id": "c892b520",
   "metadata": {},
   "outputs": [
    {
     "name": "stdout",
     "output_type": "stream",
     "text": [
      "Enter a String : hello\n",
      "Enter second String : Bye\n",
      "Byllo hee\n"
     ]
    }
   ],
   "source": [
    "#Write a Python program to get a single string from two given strings,\n",
    "#separated by a space and swap the first two characters of each string.\n",
    "\n",
    "x=input(\"Enter a String : \")\n",
    "y=input(\"Enter second String : \")\n",
    "a = y[:2] + x[2:]\n",
    "b = x[:2] + y[2:]\n",
    "c=a+\" \"+b\n",
    "\n",
    "print(c)"
   ]
  },
  {
   "cell_type": "code",
   "execution_count": 7,
   "id": "f0accfa5",
   "metadata": {},
   "outputs": [
    {
     "name": "stdout",
     "output_type": "stream",
     "text": [
      "Enter a String : fall\n",
      "falling\n"
     ]
    }
   ],
   "source": [
    "#Write a Python program to add 'ing' at the end of a given string (length\n",
    "#should be at least 3). If the given string already ends with 'ing' then add\n",
    "#'ly' instead if the string length of the given string is less than 3, leave it\n",
    "#unchanged.\n",
    "\n",
    "x=input(\"Enter a String : \")\n",
    "y=len(x)\n",
    "if y>2:\n",
    "    a=x[-3:]\n",
    "    if a=='ing':\n",
    "        print(x+'ly')\n",
    "    else:\n",
    "        print(x+'ing')\n",
    "else:\n",
    "    print(x)"
   ]
  },
  {
   "cell_type": "code",
   "execution_count": 3,
   "id": "ca9d258b",
   "metadata": {},
   "outputs": [
    {
     "name": "stdout",
     "output_type": "stream",
     "text": [
      "Enter a Sentence : He is not so poor\n",
      "He is goodoor\n"
     ]
    }
   ],
   "source": [
    "#Write a Python program to find the first appearance of the substring\n",
    "#'not' and 'poor' from a given string, if 'not' follows the 'poor', replace the\n",
    "#whole 'not'...'poor' substring with 'good'. Return the resulting string.\n",
    "\n",
    "x=input(\"Enter a Sentence : \")\n",
    "a=x.find('not')\n",
    "b=x.find('poor')\n",
    "if a<b:\n",
    "    print(x[:a]+'good'+x[b+1:])"
   ]
  },
  {
   "cell_type": "code",
   "execution_count": 8,
   "id": "b30f0703",
   "metadata": {},
   "outputs": [
    {
     "name": "stdout",
     "output_type": "stream",
     "text": [
      "Longest length is :  7\n"
     ]
    }
   ],
   "source": [
    "#Write a Python function that takes a list of words and returns the lengthof the longest one.\n",
    "\n",
    "l=['Hello','Hi','Hola','Bonjour','Ni hao','Ciao']\n",
    "def flen(l):\n",
    "    b=0\n",
    "    for i in l:\n",
    "        a=len(i)\n",
    "        if a>b:\n",
    "            b=a\n",
    "    print('Longest length is : ',b)\n",
    "flen(l)"
   ]
  },
  {
   "cell_type": "code",
   "execution_count": 12,
   "id": "3a866401",
   "metadata": {},
   "outputs": [
    {
     "name": "stdout",
     "output_type": "stream",
     "text": [
      "Enter a String : Helo\n",
      "oleH\n"
     ]
    }
   ],
   "source": [
    "#Write a Python function to reverses a string if its length is a multiple of 4.\n",
    "x=input(\"Enter a String : \")\n",
    "a=len(x)\n",
    "if a%4==0:\n",
    "    x=x[::-1]\n",
    "    print(x)\n",
    "else:\n",
    "    print(x)"
   ]
  },
  {
   "cell_type": "code",
   "execution_count": 16,
   "id": "06e86978",
   "metadata": {},
   "outputs": [
    {
     "name": "stdout",
     "output_type": "stream",
     "text": [
      "Enter a String : Khelan\n",
      "Khan\n"
     ]
    }
   ],
   "source": [
    "#Write a Python program to get a string made of the first 2 and the last\n",
    "#2 chars from a given a string. If the string length is less than 2, return\n",
    "#instead of the empty string.\n",
    "\n",
    "x=input(\"Enter a String : \")\n",
    "a=len(x)\n",
    "if a<2:\n",
    "    print('Length is too small')\n",
    "else:\n",
    "    print(x[:2]+x[-2:])"
   ]
  },
  {
   "cell_type": "code",
   "execution_count": 19,
   "id": "d382e3f8",
   "metadata": {},
   "outputs": [
    {
     "name": "stdout",
     "output_type": "stream",
     "text": [
      "Enter a String : Halo\n",
      "Enter a String you want to insert : i\n",
      "Enter position : 2\n",
      "Hailo\n"
     ]
    }
   ],
   "source": [
    "#Write a Python function to insert a string in the middle of a string.\n",
    "\n",
    "def estr():\n",
    "    x=input(\"Enter a String : \")\n",
    "    y=input(\"Enter a String you want to insert : \")\n",
    "    z=int(input(\"Enter position : \"))\n",
    "    a=x[:z]+y+x[z:]\n",
    "    print(a)\n",
    "estr()"
   ]
  },
  {
   "cell_type": "code",
   "execution_count": null,
   "id": "e034842e",
   "metadata": {},
   "outputs": [],
   "source": []
  }
 ],
 "metadata": {
  "kernelspec": {
   "display_name": "Python 3 (ipykernel)",
   "language": "python",
   "name": "python3"
  },
  "language_info": {
   "codemirror_mode": {
    "name": "ipython",
    "version": 3
   },
   "file_extension": ".py",
   "mimetype": "text/x-python",
   "name": "python",
   "nbconvert_exporter": "python",
   "pygments_lexer": "ipython3",
   "version": "3.9.12"
  }
 },
 "nbformat": 4,
 "nbformat_minor": 5
}
