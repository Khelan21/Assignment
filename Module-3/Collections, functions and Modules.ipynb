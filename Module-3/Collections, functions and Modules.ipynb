{
 "cells": [
  {
   "cell_type": "code",
   "execution_count": 3,
   "id": "95ce6212",
   "metadata": {},
   "outputs": [],
   "source": [
    "#What is List? How will you reverse a list?\n",
    "\n",
    "# Ans- List is a collection.It is used to store data.\n",
    "#      To reverse a list, slicing can be used.\n",
    "#      By [::-1] a list can be reversed."
   ]
  },
  {
   "cell_type": "code",
   "execution_count": 4,
   "id": "deb908b1",
   "metadata": {},
   "outputs": [],
   "source": [
    "#How will you remove last object from a list?\n",
    "#Suppose list1 is [2, 33, 222, 14, and 25], what is list1 [-1]? \n",
    "\n",
    "#Ans- We can remove last object from a list via pop() method.\n",
    "#     For the given list '25' will be at position '-1'."
   ]
  },
  {
   "cell_type": "code",
   "execution_count": 5,
   "id": "b1c01e28",
   "metadata": {},
   "outputs": [],
   "source": [
    "#Differentiate between append () and extend () methods? \n",
    "\n",
    "#Ans- append() is used to add and object to the end of the list whereas extend() is used to merge two\n",
    "#     lists."
   ]
  },
  {
   "cell_type": "code",
   "execution_count": 18,
   "id": "38f4d0f4",
   "metadata": {},
   "outputs": [
    {
     "name": "stdout",
     "output_type": "stream",
     "text": [
      "4  is Largest\n",
      "1  is Smallest\n",
      "Total is :  13\n"
     ]
    }
   ],
   "source": [
    "#Write a Python function to get the largest number, smallest num and sum of all from a list.\n",
    "\n",
    "#Ans-\n",
    "def ln(l):\n",
    "    max=0\n",
    "    for i in l:\n",
    "        if i>max:\n",
    "            max=i\n",
    "    print(max,' is Largest')\n",
    "def sn(l):\n",
    "    min=l[0]\n",
    "    for i in l:\n",
    "        if i<min:\n",
    "            min=i\n",
    "    print(min,' is Smallest')\n",
    "def sum(l):\n",
    "    sum=0\n",
    "    for i in l:\n",
    "        sum=sum+i\n",
    "    print('Total is : ',sum)\n",
    "l1=[1,2,3,4,3]\n",
    "ln(l1)\n",
    "sn(l1)\n",
    "sum(l1)"
   ]
  },
  {
   "cell_type": "code",
   "execution_count": 19,
   "id": "b1ab8645",
   "metadata": {},
   "outputs": [],
   "source": [
    "#How will you compare two lists?\n",
    "\n",
    "#Ans- To compare two lists '==' operator can be used"
   ]
  },
  {
   "cell_type": "code",
   "execution_count": 23,
   "id": "28fbf3cc",
   "metadata": {},
   "outputs": [
    {
     "name": "stdout",
     "output_type": "stream",
     "text": [
      "3\n"
     ]
    }
   ],
   "source": [
    "#Write a Python program to count the number of strings where the string \n",
    "#length is 2 or more and the first and last character are same from a given \n",
    "#list of strings.\n",
    "\n",
    "#Ans- \n",
    "l=['hello','hi','AmigoA','yoy','zoom','noon']\n",
    "count=0\n",
    "for i in l:\n",
    "    if len(i)>1:\n",
    "        if i[0]==i[-1]:\n",
    "            count+=1\n",
    "print(count)"
   ]
  },
  {
   "cell_type": "code",
   "execution_count": 22,
   "id": "a481f3f1",
   "metadata": {},
   "outputs": [
    {
     "name": "stdout",
     "output_type": "stream",
     "text": [
      "['a', 'b', 'c']\n"
     ]
    }
   ],
   "source": [
    "#Write a Python program to remove duplicates from a list.\n",
    "\n",
    "#Ans- \n",
    "l=['a','b','a','c']\n",
    "n=[]\n",
    "for i in l:\n",
    "    if i not in n:\n",
    "        n.append(i)\n",
    "print(n)"
   ]
  },
  {
   "cell_type": "code",
   "execution_count": 26,
   "id": "0c7a54a6",
   "metadata": {},
   "outputs": [
    {
     "name": "stdout",
     "output_type": "stream",
     "text": [
      "List is empty\n"
     ]
    }
   ],
   "source": [
    "#Write a Python program to check a list is empty or not.\n",
    "\n",
    "#Ans-\n",
    "l1=[]\n",
    "if len(l1)==0:\n",
    "    print('List is empty')"
   ]
  },
  {
   "cell_type": "code",
   "execution_count": 29,
   "id": "b1576b06",
   "metadata": {},
   "outputs": [
    {
     "name": "stdout",
     "output_type": "stream",
     "text": [
      "True\n"
     ]
    }
   ],
   "source": [
    "#Write a Python function that takes two lists and returns true if they have \n",
    "#at least one common member. \n",
    "\n",
    "#Ans-\n",
    "l1=['a','b','c']\n",
    "l2=['d','b','e']\n",
    "m=0\n",
    "\n",
    "for i in l1:\n",
    "    for j in l2:\n",
    "        if i==j:\n",
    "            m=1\n",
    "            break\n",
    "if m==1:\n",
    "    print(True)\n",
    "else:\n",
    "    print(False)"
   ]
  },
  {
   "cell_type": "code",
   "execution_count": 79,
   "id": "6afacb0e",
   "metadata": {},
   "outputs": [
    {
     "name": "stdout",
     "output_type": "stream",
     "text": [
      "[1, 4, 9, 16, 25, 676, 729, 784, 841, 900]\n"
     ]
    }
   ],
   "source": [
    "#Write a Python program to generate and print a list of first and last 5 \n",
    "#elements where the values are square of numbers between 1 and 30.\n",
    "\n",
    "#Ans- \n",
    "l=[]\n",
    "m=[]\n",
    "n=[]\n",
    "for i in range(1,31):\n",
    "    l.append(i)\n",
    "for i in range(0,30):\n",
    "    m.append(l[i]*l[i])\n",
    "n.extend(m[0:5])\n",
    "n.extend(m[-5:])\n",
    "print(n)"
   ]
  },
  {
   "cell_type": "code",
   "execution_count": 81,
   "id": "a917e49c",
   "metadata": {},
   "outputs": [
    {
     "name": "stdout",
     "output_type": "stream",
     "text": [
      "[1, 2, 3, 4, 5]\n"
     ]
    }
   ],
   "source": [
    "#Write a Python function that takes a list and returns a new list with unique \n",
    "#elements of the first list. \n",
    "\n",
    "#Ans-\n",
    "def nl(l):\n",
    "    n=[]\n",
    "    for i in l:\n",
    "        if i not in n:\n",
    "            n.append(i)\n",
    "    print(n)\n",
    "l=[1,2,3,4,5,4,3,3]\n",
    "nl(l)"
   ]
  },
  {
   "cell_type": "code",
   "execution_count": 83,
   "id": "1a6e78b8",
   "metadata": {},
   "outputs": [
    {
     "name": "stdout",
     "output_type": "stream",
     "text": [
      "Khelan"
     ]
    }
   ],
   "source": [
    "#Write a Python program to convert a list of characters into a string. \n",
    "\n",
    "#Ans-\n",
    "l=['K','h','e','l','a','n']\n",
    "for i in l:\n",
    "    print(i,end=\"\")"
   ]
  },
  {
   "cell_type": "code",
   "execution_count": 87,
   "id": "2e7613a3",
   "metadata": {},
   "outputs": [
    {
     "name": "stdout",
     "output_type": "stream",
     "text": [
      "c\n"
     ]
    }
   ],
   "source": [
    "#Write a Python program to select an item randomly from a list. \n",
    "\n",
    "#Ans-\n",
    "import random\n",
    "l=['a','b','c','d']\n",
    "x=random.choice(l)\n",
    "print(x)"
   ]
  },
  {
   "cell_type": "code",
   "execution_count": 89,
   "id": "c70fd66b",
   "metadata": {},
   "outputs": [
    {
     "name": "stdout",
     "output_type": "stream",
     "text": [
      "3\n"
     ]
    }
   ],
   "source": [
    "# Write a Python program to find the second smallest number in a list.\n",
    "\n",
    "#Ans-\n",
    "l=[1,20,3,4,5]\n",
    "m=100\n",
    "for i in l:\n",
    "    if i<m:\n",
    "        m=i\n",
    "l.remove(m)\n",
    "m=100\n",
    "for i in l:\n",
    "    if i<m:\n",
    "        m=i\n",
    "print(m)"
   ]
  },
  {
   "cell_type": "code",
   "execution_count": 90,
   "id": "cfc0051a",
   "metadata": {},
   "outputs": [
    {
     "name": "stdout",
     "output_type": "stream",
     "text": [
      "[1, 2, 3, 4, 5]\n"
     ]
    }
   ],
   "source": [
    "#Write a Python program to get unique values from a list\n",
    "\n",
    "#Ans-\n",
    "def nl(l):\n",
    "    n=[]\n",
    "    for i in l:\n",
    "        if i not in n:\n",
    "            n.append(i)\n",
    "    print(n)\n",
    "l=[1,2,3,4,5,4,3,3]\n",
    "nl(l)"
   ]
  },
  {
   "cell_type": "code",
   "execution_count": 8,
   "id": "2bcd5516",
   "metadata": {},
   "outputs": [
    {
     "name": "stdout",
     "output_type": "stream",
     "text": [
      "True\n"
     ]
    }
   ],
   "source": [
    "#Write a Python program to check whether a list contains a sub list\n",
    "\n",
    "#Ans-\n",
    "l1=['abc','def','ghi','jkl']\n",
    "l2=['abc','def']\n",
    "x=len(l2)\n",
    "m=0\n",
    "for i in l2:\n",
    "    if i in l1:\n",
    "        m=m+1\n",
    "    else:\n",
    "        m=0\n",
    "if x==m:\n",
    "    print(True)\n",
    "else:\n",
    "    print(False)"
   ]
  },
  {
   "cell_type": "code",
   "execution_count": 9,
   "id": "c762d8e6",
   "metadata": {},
   "outputs": [
    {
     "name": "stdout",
     "output_type": "stream",
     "text": [
      "a\n",
      "b\n",
      "c\n",
      "d\n"
     ]
    }
   ],
   "source": [
    "#Write a Python program to split a list into different variables.\n",
    "\n",
    "#Ans-\n",
    "l=['a','b','c','d']\n",
    "a1,a2,a3,a4=l\n",
    "print(a1)\n",
    "print(a2)\n",
    "print(a3)\n",
    "print(a4)"
   ]
  },
  {
   "cell_type": "code",
   "execution_count": 10,
   "id": "703c126c",
   "metadata": {},
   "outputs": [],
   "source": [
    "#What is tuple? Difference between list and tuple. \n",
    "\n",
    "#Ans-\n",
    "#Tuple is a collection,used to stored different data types.\n",
    "#List is mutable means we can edit list whereas tuple is immutable."
   ]
  },
  {
   "cell_type": "code",
   "execution_count": 12,
   "id": "cfcc026c",
   "metadata": {},
   "outputs": [
    {
     "name": "stdout",
     "output_type": "stream",
     "text": [
      "(1, 'Hello')\n"
     ]
    }
   ],
   "source": [
    "#Write a Python program to create a tuple with different data types.\n",
    "\n",
    "#Ans-\n",
    "x=1\n",
    "y='Hello'\n",
    "t=(x,y)\n",
    "print(t)"
   ]
  },
  {
   "cell_type": "code",
   "execution_count": 13,
   "id": "aa9fe16f",
   "metadata": {},
   "outputs": [
    {
     "name": "stdout",
     "output_type": "stream",
     "text": [
      "(1, 2, 3, 4, 5)\n"
     ]
    }
   ],
   "source": [
    "#Write a Python program to create a tuple with numbers.\n",
    "\n",
    "#Ans-\n",
    "t=1,2,3,4,5\n",
    "print(t)"
   ]
  },
  {
   "cell_type": "code",
   "execution_count": 15,
   "id": "86995fc0",
   "metadata": {},
   "outputs": [
    {
     "name": "stdout",
     "output_type": "stream",
     "text": [
      "Khelan"
     ]
    }
   ],
   "source": [
    "#Write a Python program to convert a tuple to a string.\n",
    "\n",
    "#Ans-\n",
    "t=('K','h','e','l','a','n')\n",
    "t1=list(t)\n",
    "for i in t1:\n",
    "    print(i,end=\"\")"
   ]
  },
  {
   "cell_type": "code",
   "execution_count": 18,
   "id": "5de9589d",
   "metadata": {},
   "outputs": [
    {
     "name": "stdout",
     "output_type": "stream",
     "text": [
      "True\n"
     ]
    }
   ],
   "source": [
    "#Write a Python program to check whether an element exists within a tuple.\n",
    "\n",
    "#Ans-\n",
    "t=('a','b','c','d')\n",
    "x='b'\n",
    "if x in t:\n",
    "    print(True)\n",
    "else:\n",
    "    print(False)"
   ]
  },
  {
   "cell_type": "code",
   "execution_count": 19,
   "id": "d3c6e220",
   "metadata": {},
   "outputs": [
    {
     "name": "stdout",
     "output_type": "stream",
     "text": [
      "3\n"
     ]
    }
   ],
   "source": [
    "#Write a Python program to find the length of a tuple.\n",
    "\n",
    "#Ans-\n",
    "t=('a','b','c')\n",
    "x=len(t)\n",
    "print(x)"
   ]
  },
  {
   "cell_type": "code",
   "execution_count": 20,
   "id": "757a15bb",
   "metadata": {},
   "outputs": [
    {
     "name": "stdout",
     "output_type": "stream",
     "text": [
      "(1, 2, 3, 4, 5)\n"
     ]
    }
   ],
   "source": [
    "#Write a Python program to convert a list to a tuple.\n",
    "\n",
    "#Ans-\n",
    "l=[1,2,3,4,5]\n",
    "t=tuple(l)\n",
    "print(t)"
   ]
  },
  {
   "cell_type": "code",
   "execution_count": 21,
   "id": "4e1b0c97",
   "metadata": {},
   "outputs": [
    {
     "name": "stdout",
     "output_type": "stream",
     "text": [
      "(5, 4, 3, 2, 1)\n"
     ]
    }
   ],
   "source": [
    "#Write a Python program to reverse a tuple.\n",
    "\n",
    "#Ans-\n",
    "t=(1,2,3,4,5)\n",
    "l=list(t)\n",
    "l=l[::-1]\n",
    "t=tuple(l)\n",
    "print(t)"
   ]
  },
  {
   "cell_type": "code",
   "execution_count": 3,
   "id": "89cffdb8",
   "metadata": {},
   "outputs": [
    {
     "name": "stdout",
     "output_type": "stream",
     "text": [
      "(1, 2, 3, 6, 7)\n"
     ]
    }
   ],
   "source": [
    "#Write a Python program to replace last value of tuples in a list.\n",
    "\n",
    "#Ans-\n",
    "t=(1,2,3,4,5)\n",
    "l2=[6,7]\n",
    "l=l2[::-1]\n",
    "l1=list(t)\n",
    "x=len(l)\n",
    "for i in range(x):\n",
    "    l1[-(i+1)]=l[i]\n",
    "t=tuple(l1)\n",
    "print(t)"
   ]
  },
  {
   "cell_type": "code",
   "execution_count": 9,
   "id": "8d42189a",
   "metadata": {},
   "outputs": [
    {
     "name": "stdout",
     "output_type": "stream",
     "text": [
      "Repeated numbers : 2,3,"
     ]
    }
   ],
   "source": [
    "#Write a Python program to find the repeated items of a tuple.\n",
    "\n",
    "#Ans-\n",
    "t=(1,2,2,3,3,4)\n",
    "m=[]\n",
    "print('Repeated numbers : ',end=\"\")\n",
    "for i in t:\n",
    "    if i not in m:\n",
    "        m.append(i)\n",
    "    else:\n",
    "        print(i,end=\",\")"
   ]
  },
  {
   "cell_type": "code",
   "execution_count": 10,
   "id": "d8527b7c",
   "metadata": {},
   "outputs": [
    {
     "name": "stdout",
     "output_type": "stream",
     "text": [
      "[(1, 2), (2, 3, 4)]\n"
     ]
    }
   ],
   "source": [
    "#Write a Python program to remove an empty tuple(s) from a list of tuples. \n",
    "\n",
    "#Ans-\n",
    "l=[(1,2),(),(2,3,4),()]\n",
    "for i in l:\n",
    "    if len(i)==0:\n",
    "        l.remove(i)\n",
    "print(l)"
   ]
  },
  {
   "cell_type": "code",
   "execution_count": 11,
   "id": "d56ea236",
   "metadata": {},
   "outputs": [
    {
     "name": "stdout",
     "output_type": "stream",
     "text": [
      "[(1, 2, 3), (2, 3, 3)]\n"
     ]
    }
   ],
   "source": [
    "#Write a Python program to unzip a list of tuples into individual lists.\n",
    "\n",
    "#Ans-\n",
    "l=[(1,2),(2,3),(3,3)]\n",
    "m=list(zip(*l))\n",
    "print(m)"
   ]
  },
  {
   "cell_type": "code",
   "execution_count": 13,
   "id": "16f6d528",
   "metadata": {},
   "outputs": [
    {
     "name": "stdout",
     "output_type": "stream",
     "text": [
      "{1: (1, 2), 2: (2, 3), 3: (3, 3)}\n"
     ]
    }
   ],
   "source": [
    "#Write a Python program to convert a list of tuples into a dictionary.\n",
    "\n",
    "#Ans-\n",
    "l=[(1,2),(2,3),(3,3)]\n",
    "d={}\n",
    "x=1\n",
    "for i in l:\n",
    "    d[x]=i\n",
    "    x=x+1\n",
    "print(d)"
   ]
  },
  {
   "cell_type": "code",
   "execution_count": 15,
   "id": "5b9a7235",
   "metadata": {},
   "outputs": [],
   "source": [
    "#How will you create a dictionary using tuples in python?\n",
    "\n",
    "#Ans- We can create dictionary using tuple by for loop and by giving keys explicitely."
   ]
  },
  {
   "cell_type": "code",
   "execution_count": 24,
   "id": "6a526f52",
   "metadata": {},
   "outputs": [],
   "source": [
    "#Write a Python script to sort (ascending and descending) a dictionary by value.\n",
    "\n",
    "#Ans-\n",
    "#__________________________________________________________"
   ]
  },
  {
   "cell_type": "code",
   "execution_count": 5,
   "id": "12f5decc",
   "metadata": {},
   "outputs": [
    {
     "name": "stdout",
     "output_type": "stream",
     "text": [
      "{1: 2, 3: 4, 5: 6, 7: 8}\n"
     ]
    }
   ],
   "source": [
    "#Write a Python script to concatenate following dictionaries to create a new one.\n",
    "\n",
    "#Ans-\n",
    "d1={1:2,3:4}\n",
    "d2={5:6,7:8}\n",
    "d3={}\n",
    "for d in (d1, d2):\n",
    "    d3.update(d)\n",
    "print(d3)"
   ]
  },
  {
   "cell_type": "code",
   "execution_count": 13,
   "id": "77ab0f36",
   "metadata": {},
   "outputs": [
    {
     "name": "stdout",
     "output_type": "stream",
     "text": [
      "Enter key you want to check : 3\n",
      "Key exist\n"
     ]
    }
   ],
   "source": [
    "#Write a Python script to check if a given key already exists in a dictionary.\n",
    "\n",
    "#Ans-\n",
    "d={1:10,2:20,3:30,4:40}\n",
    "x=int(input(\"Enter key you want to check : \"))\n",
    "m=0\n",
    "for i in d.keys():\n",
    "    if x==i:\n",
    "        m=1\n",
    "if m==1:\n",
    "    print(\"Key exist\")\n",
    "else:\n",
    "    print(\"Key does not exist\")"
   ]
  },
  {
   "cell_type": "code",
   "execution_count": 14,
   "id": "d88febe4",
   "metadata": {},
   "outputs": [],
   "source": [
    "#How Do You Traverse Through A Dictionary Object In Python? \n",
    "\n",
    "#Ans- To traverse through a dictionary we can use for loop.By creating temporary object in for loop\n",
    "#     on dictionary we can traverse dictionary."
   ]
  },
  {
   "cell_type": "code",
   "execution_count": 15,
   "id": "5edadcb2",
   "metadata": {},
   "outputs": [],
   "source": [
    "#How Do You Check The Presence Of A Key In A Dictionary?\n",
    "\n",
    "#Ans- By 'for i in d.keys()' we can access all keys directly in loop and by comparing i with our\n",
    "#     desired key we can check its presence."
   ]
  },
  {
   "cell_type": "code",
   "execution_count": 16,
   "id": "44ebe26a",
   "metadata": {},
   "outputs": [
    {
     "name": "stdout",
     "output_type": "stream",
     "text": [
      "{2: 4, 3: 9, 4: 16, 5: 25, 6: 36, 7: 49, 8: 64, 9: 81, 10: 100, 11: 121, 12: 144, 13: 169, 14: 196}\n"
     ]
    }
   ],
   "source": [
    "#Write a Python script to print a dictionary where the keys are numbers between 1 and 15.\n",
    "\n",
    "#Ans-\n",
    "d={}\n",
    "for i in range(2,15):\n",
    "    d[i]=i*i\n",
    "print(d)"
   ]
  },
  {
   "cell_type": "code",
   "execution_count": 23,
   "id": "9853fa71",
   "metadata": {},
   "outputs": [
    {
     "name": "stdout",
     "output_type": "stream",
     "text": [
      "[1, 2, 4]\n"
     ]
    }
   ],
   "source": [
    "#Write a Python program to check multiple keys exists in a dictionary\n",
    "\n",
    "#Ans-\n",
    "d={1:10,2:20,1:30,4:40}\n",
    "l=[]\n",
    "for i in d.keys():\n",
    "    if i not in l:\n",
    "        l.append(i)\n",
    "    else:\n",
    "        print(i,\" Key already exist\")\n",
    "print(l)\n",
    "#___________________________________________________________________"
   ]
  },
  {
   "cell_type": "code",
   "execution_count": 25,
   "id": "faea5c11",
   "metadata": {},
   "outputs": [
    {
     "name": "stdout",
     "output_type": "stream",
     "text": [
      "{1: 10, 2: 20, 3: 30, 4: 40}\n"
     ]
    }
   ],
   "source": [
    "#Write a Python script to merge two Python dictionaries\n",
    "\n",
    "#Ans-\n",
    "d1={1:10,2:20}\n",
    "d2={3:30,4:40}\n",
    "d3={}\n",
    "for d in (d1,d2):\n",
    "    d3.update(d)\n",
    "print(d3)"
   ]
  },
  {
   "cell_type": "code",
   "execution_count": 28,
   "id": "df7e13de",
   "metadata": {},
   "outputs": [
    {
     "name": "stdout",
     "output_type": "stream",
     "text": [
      "{1: 10, 2: 20, 3: 30}\n"
     ]
    }
   ],
   "source": [
    "#Write a Python program to map two lists into a dictionary \n",
    "\n",
    "#Ans-\n",
    "k=[1,2,3]\n",
    "v=[10,20,30]\n",
    "d=dict(zip(k,v))\n",
    "print(d)"
   ]
  },
  {
   "cell_type": "code",
   "execution_count": 32,
   "id": "b8ab431f",
   "metadata": {},
   "outputs": [
    {
     "name": "stdout",
     "output_type": "stream",
     "text": [
      "{'a': 400, 'b': 400, 'd': 400}\n"
     ]
    }
   ],
   "source": [
    "#Write a Python program to combine two dictionary adding values for common keys.\n",
    "\n",
    "#Ans-\n",
    "d1 = {'a': 100, 'b': 200, 'c':300}\n",
    "d2 = {'a': 300, 'b': 200,'d':400}\n",
    "\n",
    "for x in d1:\n",
    "    if x in d2:\n",
    "        d2[x]=d1[x]+d2[x]\n",
    "print(d2)"
   ]
  },
  {
   "cell_type": "code",
   "execution_count": 34,
   "id": "82f0867d",
   "metadata": {},
   "outputs": [
    {
     "name": "stdout",
     "output_type": "stream",
     "text": [
      "[10, 20, 40]\n"
     ]
    }
   ],
   "source": [
    "#Write a Python program to print all unique values in a dictionary. \n",
    "\n",
    "#Ans-\n",
    "d={1:10,2:20,3:10,4:40}\n",
    "l=[]\n",
    "for i in d.values():\n",
    "    if i not in l:\n",
    "        l.append(i)\n",
    "print(l)"
   ]
  },
  {
   "cell_type": "code",
   "execution_count": 35,
   "id": "d908b42b",
   "metadata": {},
   "outputs": [],
   "source": [
    "#Why Do You Use the Zip () Method in Python? \n",
    "\n",
    "#Ans- The zip() function in Python is used to combine two or more iterable dictionaries into\n",
    "#     a single iterable."
   ]
  },
  {
   "cell_type": "code",
   "execution_count": 44,
   "id": "b125defd",
   "metadata": {},
   "outputs": [
    {
     "name": "stdout",
     "output_type": "stream",
     "text": [
      "ac ad bc bd "
     ]
    }
   ],
   "source": [
    "#Write a Python program to create and display all combinations of letters, \n",
    "#selecting each letter from a different key in a dictionary.\n",
    "\n",
    "#Ans-\n",
    "d={1: ['a','b'],2: ['c','d']}\n",
    "for i in d[1]:\n",
    "    for j in d[2]:\n",
    "        print(i+j,end=\" \")"
   ]
  },
  {
   "cell_type": "code",
   "execution_count": 49,
   "id": "faea8cee",
   "metadata": {},
   "outputs": [
    {
     "name": "stdout",
     "output_type": "stream",
     "text": [
      "[33, 40, 50]\n"
     ]
    }
   ],
   "source": [
    "#Write a Python program to find the highest 3 values in a dictionary\n",
    "d={1:10,2:30,3:50,4:3,5:40,6:33}\n",
    "l=[]\n",
    "for i in d.values():\n",
    "    l.append(i)\n",
    "l.sort()\n",
    "print(l[-3:])"
   ]
  },
  {
   "cell_type": "code",
   "execution_count": 52,
   "id": "9bcd0d16",
   "metadata": {},
   "outputs": [
    {
     "name": "stdout",
     "output_type": "stream",
     "text": [
      "{'item': 'item1', 'amount': 2750}\n"
     ]
    }
   ],
   "source": [
    "#Write a Python program to combine values in python list of dictionaries. \n",
    "d1={'item': 'item1', 'amount': 400}\n",
    "d2={'item': 'item2', 'amount': 300}\n",
    "d3={'item': 'item1', 'amount': 750}\n",
    "\n",
    "for d in d1['item']:\n",
    "    if d1['item']==d3['item']:\n",
    "        d3['amount']=d3['amount']+d1['amount']\n",
    "print(d3)\n",
    "#_______________________________________________________________"
   ]
  },
  {
   "cell_type": "code",
   "execution_count": 56,
   "id": "ab0898bd",
   "metadata": {},
   "outputs": [
    {
     "name": "stdout",
     "output_type": "stream",
     "text": [
      "{'m': 1, 'o': 3, 'n': 2, 's': 1}\n"
     ]
    }
   ],
   "source": [
    "#Write a Python program to create a dictionary from a string.\n",
    "\n",
    "#Ans-\n",
    "s='monsoon'\n",
    "d={}\n",
    "for i in s:\n",
    "    if i not in d:\n",
    "        d[i]=1\n",
    "    else:\n",
    "        d[i]=d[i]+1\n",
    "print(d)"
   ]
  },
  {
   "cell_type": "code",
   "execution_count": 2,
   "id": "292c8f6b",
   "metadata": {},
   "outputs": [
    {
     "name": "stdout",
     "output_type": "stream",
     "text": [
      "Enter a number : 4\n",
      "24\n"
     ]
    }
   ],
   "source": [
    "#Write a Python function to calculate the factorial of a number\n",
    "\n",
    "#Ans-\n",
    "def fact(x,f):\n",
    "    f=f*x\n",
    "    if x==1:\n",
    "        print(f)\n",
    "    else:\n",
    "        fact(x-1,f)\n",
    "x=int(input(\"Enter a number : \"))\n",
    "f=1\n",
    "fact(x,f)"
   ]
  },
  {
   "cell_type": "code",
   "execution_count": 5,
   "id": "f7243711",
   "metadata": {},
   "outputs": [
    {
     "name": "stdout",
     "output_type": "stream",
     "text": [
      "Enter a number : 4\n",
      "Enter lower limit : 1\n",
      "Enter upper limit : 7\n",
      "Number is in the range\n"
     ]
    }
   ],
   "source": [
    "#Write a Python function to check whether a number is in a given range\n",
    "\n",
    "#Ans-\n",
    "x=int(input(\"Enter a number : \"))\n",
    "y1=int(input(\"Enter lower limit : \"))\n",
    "y2=int(input(\"Enter upper limit : \"))\n",
    "m=0\n",
    "for i in range(y1,y2+1):\n",
    "    if i==x:\n",
    "        m=1\n",
    "    else:\n",
    "        pass\n",
    "if m==1:\n",
    "    print(\"Number is in the range\")\n",
    "else:\n",
    "    print(\"Number is out of range\")"
   ]
  },
  {
   "cell_type": "code",
   "execution_count": 7,
   "id": "725cf0f2",
   "metadata": {},
   "outputs": [
    {
     "name": "stdout",
     "output_type": "stream",
     "text": [
      "Enter a number : 28\n",
      "Number is perfect\n"
     ]
    }
   ],
   "source": [
    "#Write a Python function to check whether a number is perfect or not.\n",
    "\n",
    "#Ans-\n",
    "x=int(input(\"Enter a number : \"))\n",
    "m=0\n",
    "for i in range(1,x):\n",
    "    if x%i==0:\n",
    "        m=m+i\n",
    "if m==x:\n",
    "    print(\"Number is perfect\")\n",
    "else:\n",
    "    print(\"Number is not perfect\")"
   ]
  },
  {
   "cell_type": "code",
   "execution_count": 9,
   "id": "dbda8930",
   "metadata": {},
   "outputs": [
    {
     "name": "stdout",
     "output_type": "stream",
     "text": [
      "Enter a String : naman\n",
      "String is Palindrome\n"
     ]
    }
   ],
   "source": [
    "#Write a Python function that checks whether a passed string is palindrome or not.\n",
    "x=input(\"Enter a String : \")\n",
    "if x==x[::-1]:\n",
    "    print(\"String is Palindrome\")\n",
    "else:\n",
    "    print(\"String is not Palindrome\")"
   ]
  },
  {
   "cell_type": "code",
   "execution_count": 1,
   "id": "36da99fc",
   "metadata": {},
   "outputs": [],
   "source": [
    "#How Many Basic Types Of Functions Are Available In Python?\n",
    "\n",
    "#Ans- In python there are Four types of functions\n",
    "#     With return with arguments\n",
    "#     With return N arguments\n",
    "#     No return with arguments\n",
    "#     No return No arguments"
   ]
  },
  {
   "cell_type": "code",
   "execution_count": 2,
   "id": "b051cc94",
   "metadata": {},
   "outputs": [
    {
     "name": "stdout",
     "output_type": "stream",
     "text": [
      "b\n"
     ]
    }
   ],
   "source": [
    "#How can you pick a random item from a list or tuple?\n",
    "\n",
    "#Ans-\n",
    "import random\n",
    "l=['a','b','c','d']\n",
    "x=random.choice(l)\n",
    "print(x)"
   ]
  },
  {
   "cell_type": "code",
   "execution_count": 5,
   "id": "870c40e1",
   "metadata": {},
   "outputs": [
    {
     "name": "stdout",
     "output_type": "stream",
     "text": [
      "4\n"
     ]
    }
   ],
   "source": [
    "#How can you pick a random item from a range?\n",
    "\n",
    "#Ans-\n",
    "import random\n",
    "x=random.choice(range(1,5))\n",
    "print(x)"
   ]
  },
  {
   "cell_type": "code",
   "execution_count": 13,
   "id": "604c4ad3",
   "metadata": {},
   "outputs": [
    {
     "name": "stdout",
     "output_type": "stream",
     "text": [
      "3\n"
     ]
    }
   ],
   "source": [
    "#How can you get a random number in python?\n",
    "\n",
    "#Ans-\n",
    "import random\n",
    "x=random.randint(1,10)\n",
    "print(x)"
   ]
  },
  {
   "cell_type": "code",
   "execution_count": 14,
   "id": "770acd41",
   "metadata": {},
   "outputs": [],
   "source": [
    "#How will you set the starting value in generating random numbers?\n",
    "\n",
    "#Ans- In randint function it accepts two arguments.Amongst them first indicates starting value of\n",
    "#     in range and Second indicates last value of range."
   ]
  },
  {
   "cell_type": "code",
   "execution_count": 16,
   "id": "b7dfe2b0",
   "metadata": {},
   "outputs": [
    {
     "name": "stdout",
     "output_type": "stream",
     "text": [
      "[1, 4, 5, 3, 2]\n"
     ]
    }
   ],
   "source": [
    "#How will you randomizes the items of a list in place?\n",
    "\n",
    "#Ans-\n",
    "import random\n",
    "l=[1,2,3,4,5]\n",
    "random.shuffle(l)\n",
    "print(l)"
   ]
  },
  {
   "cell_type": "code",
   "execution_count": 1,
   "id": "34a0e613",
   "metadata": {},
   "outputs": [
    {
     "ename": "SyntaxError",
     "evalue": "(unicode error) 'unicodeescape' codec can't decode bytes in position 2-3: truncated \\UXXXXXXXX escape (249305098.py, line 4)",
     "output_type": "error",
     "traceback": [
      "\u001b[1;36m  Input \u001b[1;32mIn [1]\u001b[1;36m\u001b[0m\n\u001b[1;33m    lines = open('C:\\Users\\Khelan\\21\\Python\\Classwork\\fordjango.txt').read().splitlines()\u001b[0m\n\u001b[1;37m                                                                    ^\u001b[0m\n\u001b[1;31mSyntaxError\u001b[0m\u001b[1;31m:\u001b[0m (unicode error) 'unicodeescape' codec can't decode bytes in position 2-3: truncated \\UXXXXXXXX escape\n"
     ]
    }
   ],
   "source": [
    "#Write a Python program to read a random line from a file.\n",
    "\n",
    "#Ans-\n",
    "lines = open('C:\\Users\\Khelan\\21\\Python\\Classwork\\fordjango.txt').read().splitlines()\n",
    "myline =random.choice(lines)\n",
    "print(myline)"
   ]
  },
  {
   "cell_type": "code",
   "execution_count": 2,
   "id": "98d66cf4",
   "metadata": {},
   "outputs": [
    {
     "name": "stdout",
     "output_type": "stream",
     "text": [
      "Enter a degree to convert : 180\n",
      "In radian :  3.14\n"
     ]
    }
   ],
   "source": [
    "#Write a Python program to convert degree to radian\n",
    "\n",
    "#Ans-\n",
    "x=int(input(\"Enter a degree to convert : \"))\n",
    "rad=x*3.14/180\n",
    "print(\"In radian : \",rad)"
   ]
  },
  {
   "cell_type": "code",
   "execution_count": 4,
   "id": "c84f37f0",
   "metadata": {},
   "outputs": [
    {
     "name": "stdout",
     "output_type": "stream",
     "text": [
      "Enter upper edge length : 8\n",
      "Enter lower edge length : 10\n",
      "Enter height : 6\n",
      "Area is :  54.0\n"
     ]
    }
   ],
   "source": [
    "#Write a Python program to calculate the area of a trapezoid\n",
    "\n",
    "#Ans-\n",
    "a=int(input(\"Enter upper edge length : \"))\n",
    "b=int(input(\"Enter lower edge length : \"))\n",
    "h=int(input(\"Enter height : \"))\n",
    "area=((a+b)/2)*h\n",
    "print(\"Area is : \",area)"
   ]
  },
  {
   "cell_type": "code",
   "execution_count": 6,
   "id": "62c2f30f",
   "metadata": {},
   "outputs": [
    {
     "name": "stdout",
     "output_type": "stream",
     "text": [
      "Enter lower edge length : 10\n",
      "Enter height : 8\n",
      "Area is :  80\n"
     ]
    }
   ],
   "source": [
    "#Write a Python program to calculate the area of a parallelogram\n",
    "\n",
    "#Ans-\n",
    "a=int(input(\"Enter lower edge length : \"))\n",
    "h=int(input(\"Enter height : \"))\n",
    "area=a*h\n",
    "print(\"Area is : \",a*h)"
   ]
  },
  {
   "cell_type": "code",
   "execution_count": 7,
   "id": "bcf10076",
   "metadata": {},
   "outputs": [
    {
     "name": "stdout",
     "output_type": "stream",
     "text": [
      "Enter radius : 10\n",
      "Enter height : 9\n",
      "Surface Area :  565.2\n",
      "Area :  1193.2\n"
     ]
    }
   ],
   "source": [
    "#Write a Python program to calculate surface volume and area of a cylinder\n",
    "\n",
    "#Ans-\n",
    "r=int(input(\"Enter radius : \"))\n",
    "h=int(input(\"Enter height : \"))\n",
    "sa=2*3.14*r*h\n",
    "area=2*3.14*r*(h+r)\n",
    "print(\"Surface Area : \",sa)\n",
    "print(\"Area : \",area)"
   ]
  },
  {
   "cell_type": "code",
   "execution_count": 9,
   "id": "66acdf9a",
   "metadata": {},
   "outputs": [
    {
     "name": "stdout",
     "output_type": "stream",
     "text": [
      "Enter a Number : 10\n",
      "1 2 5 10 "
     ]
    }
   ],
   "source": [
    "#Write a Python program to returns sum of all divisors of a number\n",
    "\n",
    "#Ans-\n",
    "x=int(input(\"Enter a Number : \"))\n",
    "for i in range(1,x+1):\n",
    "    if x%i==0:\n",
    "        print(i,end=\" \")"
   ]
  },
  {
   "cell_type": "code",
   "execution_count": 11,
   "id": "cd5ac2e0",
   "metadata": {},
   "outputs": [
    {
     "name": "stdout",
     "output_type": "stream",
     "text": [
      "Minimum number :  4\n",
      "Maximum number :  40\n"
     ]
    }
   ],
   "source": [
    "#Write a Python program to find the maximum and minimum numbers from the specified decimal numbers.\n",
    "\n",
    "#Ans-\n",
    "l=[10,40,32,4,22,23,9]\n",
    "l.sort()\n",
    "print(\"Minimum number : \",l[0])\n",
    "print(\"Maximum number : \",l[-1])"
   ]
  },
  {
   "cell_type": "code",
   "execution_count": null,
   "id": "71cd0cf8",
   "metadata": {},
   "outputs": [],
   "source": []
  }
 ],
 "metadata": {
  "kernelspec": {
   "display_name": "Python 3 (ipykernel)",
   "language": "python",
   "name": "python3"
  },
  "language_info": {
   "codemirror_mode": {
    "name": "ipython",
    "version": 3
   },
   "file_extension": ".py",
   "mimetype": "text/x-python",
   "name": "python",
   "nbconvert_exporter": "python",
   "pygments_lexer": "ipython3",
   "version": "3.9.12"
  }
 },
 "nbformat": 4,
 "nbformat_minor": 5
}
