{
 "cells": [
  {
   "cell_type": "code",
   "execution_count": 1,
   "id": "6aa05b0f",
   "metadata": {},
   "outputs": [],
   "source": [
    "#Why Django should be used for web-development? Explain how you can create a project in Django?\n",
    "\n",
    "#Ans- Django provides great interface and it is very convinient to manage website via Django.\n",
    "#     To create project in django, first we have to create virtual environment and then by installing\n",
    "#     necessary files we can create django project."
   ]
  },
  {
   "cell_type": "code",
   "execution_count": 2,
   "id": "a7b9bc74",
   "metadata": {},
   "outputs": [],
   "source": [
    "#How to check installed version of django?\n",
    "\n",
    "#Ans- By 'py -m django --version' we can check current version of django."
   ]
  },
  {
   "cell_type": "code",
   "execution_count": 3,
   "id": "6dabee47",
   "metadata": {},
   "outputs": [],
   "source": [
    "#Explain what does django-admin.py make messages command is used for?\n",
    "\n",
    "#Ans- django-admin.py make messages command is use to create messagefiles in django."
   ]
  },
  {
   "cell_type": "code",
   "execution_count": 4,
   "id": "e013a879",
   "metadata": {},
   "outputs": [],
   "source": [
    "#What is Django URLs?make program to create django urls\n",
    "\n",
    "#Ans- Django URLs are Urls which are used to redirect and indicate which page to use on certain extention."
   ]
  },
  {
   "cell_type": "code",
   "execution_count": 5,
   "id": "47c5addd",
   "metadata": {},
   "outputs": [],
   "source": [
    "#What is a QuerySet?Write program to create a new Post object in database.\n",
    "\n",
    "#Ans- QuerySet API includes methods for creating, retrieving, updating, and deleting data \n",
    "#     (CRUD operations) as well as more advanced methods for aggregation, optimization,\n",
    "#     and set operations."
   ]
  },
  {
   "cell_type": "code",
   "execution_count": 6,
   "id": "f88d32eb",
   "metadata": {},
   "outputs": [],
   "source": [
    "#Mention what command line can be used to load data into Django?\n",
    "\n",
    "#Ans- TO load data in Django database makemigrations and migrate commands are used."
   ]
  },
  {
   "cell_type": "code",
   "execution_count": 7,
   "id": "d787663a",
   "metadata": {},
   "outputs": [],
   "source": [
    "#Explain what does django-admin.py make messages command is used for?\n",
    "\n",
    "#Ans- django-admin.py make messages command is use to create messagefiles in django."
   ]
  },
  {
   "cell_type": "code",
   "execution_count": null,
   "id": "816ab351",
   "metadata": {},
   "outputs": [],
   "source": [
    "#"
   ]
  }
 ],
 "metadata": {
  "kernelspec": {
   "display_name": "Python 3 (ipykernel)",
   "language": "python",
   "name": "python3"
  },
  "language_info": {
   "codemirror_mode": {
    "name": "ipython",
    "version": 3
   },
   "file_extension": ".py",
   "mimetype": "text/x-python",
   "name": "python",
   "nbconvert_exporter": "python",
   "pygments_lexer": "ipython3",
   "version": "3.9.12"
  }
 },
 "nbformat": 4,
 "nbformat_minor": 5
}
