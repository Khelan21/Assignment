{
 "cells": [
  {
   "cell_type": "code",
   "execution_count": 1,
   "id": "4f28a829",
   "metadata": {},
   "outputs": [],
   "source": [
    "#What is File function in python? What is keywords to create and write file.\n",
    "\n",
    "#Ans- file function is used to create,read,write or to append file.to create file 'x' keyword is used.\n",
    "#     To write in file 'w' keyword is used."
   ]
  },
  {
   "cell_type": "code",
   "execution_count": null,
   "id": "2a2f3a71",
   "metadata": {},
   "outputs": [],
   "source": [
    "#Write a Python program to read an entire text file.\n",
    "\n",
    "#Ans-\n",
    "file = open('file',mode='r')\n",
    "all_of_it = file.read()\n",
    "file.close()"
   ]
  },
  {
   "cell_type": "code",
   "execution_count": null,
   "id": "923ec524",
   "metadata": {},
   "outputs": [],
   "source": [
    "#Write a Python program to append text to a file and display the text.\n",
    "\n",
    "#Ans-\n",
    "with open(\"file.txt\", \"a\") as f:\n",
    "    f.write(\"new text\")"
   ]
  },
  {
   "cell_type": "code",
   "execution_count": null,
   "id": "ac61dddd",
   "metadata": {},
   "outputs": [],
   "source": [
    "#Write a Python program to read first n lines of a file.\n",
    "\n",
    "#Ans-\n",
    "inputFile = \"file.txt\"\n",
    "N = int(input(\"Enter N value: \"))\n",
    "with open(inputFile, 'r') as filedata:\n",
    "    linesList= filedata.readlines()\n",
    "    for textline in (linesList[:N]):\n",
    "        print(textline,end ='')\n",
    "filedata.close()"
   ]
  },
  {
   "cell_type": "code",
   "execution_count": null,
   "id": "46654947",
   "metadata": {},
   "outputs": [],
   "source": [
    "#Write a Python program to read last n lines of a file.\n",
    "\n",
    "#Ans-\n",
    "inputFile = \"file.txt\"\n",
    "N = int(input(\"Enter N value: \"))\n",
    "with open(inputFile, 'r') as filedata:\n",
    "    linesList= filedata.readlines()\n",
    "    for textline in (linesList[-N:]):\n",
    "        print(textline,end ='')\n",
    "filedata.close()"
   ]
  },
  {
   "cell_type": "code",
   "execution_count": null,
   "id": "ef5a9260",
   "metadata": {},
   "outputs": [],
   "source": [
    "#Write a Python program to read a file line by line and store it into a list\n",
    "\n",
    "#Ans-\n",
    "inputFile = \"file.txt\"\n",
    "l=[]\n",
    "N = int(input(\"Enter N value: \"))\n",
    "with open(inputFile, 'r') as filedata:\n",
    "    linesList= filedata.readlines()\n",
    "    for textline in (linesList[-N:]):\n",
    "        l.append(textline)\n",
    "print(l)\n",
    "filedata.close()"
   ]
  },
  {
   "cell_type": "code",
   "execution_count": null,
   "id": "dfaca310",
   "metadata": {},
   "outputs": [],
   "source": [
    "#Write a Python program to read a file line by line store it into a variable.\n",
    "\n",
    "#Ans-\n",
    "\n",
    "with open (fname, \"r\") as myfile:\n",
    "    data=myfile.readlines()\n",
    "    print(data)"
   ]
  },
  {
   "cell_type": "code",
   "execution_count": 3,
   "id": "0b8300c9",
   "metadata": {},
   "outputs": [],
   "source": [
    "#Write a python program to find the longest words.\n",
    "\n",
    "#Ans-\n",
    "with open(filename, 'r') as infile:\n",
    "    words = infile.read().split()\n",
    "    max_len = len(max(words, key=len))\n",
    "    return [word for word in words if len(word) == max_len]"
   ]
  },
  {
   "cell_type": "code",
   "execution_count": null,
   "id": "ea12044e",
   "metadata": {},
   "outputs": [],
   "source": [
    "#Write a Python program to count the number of lines in a text file.\n",
    "\n",
    "#Ans-\n",
    "inputFile = \"file.txt\"\n",
    "N = int(input(\"Enter N value: \"))\n",
    "with open(inputFile, 'r') as filedata:\n",
    "    linesList= filedata.readlines()\n",
    "    print(len(lineslist))\n",
    "filedata.close()"
   ]
  },
  {
   "cell_type": "code",
   "execution_count": null,
   "id": "de03166e",
   "metadata": {},
   "outputs": [],
   "source": [
    "#Write a Python program to count the frequency of words in a file. \n",
    "\n",
    "#Ans-\n",
    "from collections import Counter\n",
    "def word_count(fname):\n",
    "        with open(fname) as f:\n",
    "                return Counter(f.read().split())\n",
    "print(\"Number of words in the file :\",word_count(\"test.txt\"))"
   ]
  },
  {
   "cell_type": "code",
   "execution_count": null,
   "id": "47c061c6",
   "metadata": {},
   "outputs": [],
   "source": [
    "#Write a Python program to write a list to a file.\n",
    "\n",
    "#Ans-\n",
    "l=[1,2,3,4,5]\n",
    "of = open('file.txt', 'w')\n",
    "for word in words:\n",
    "    of.write(l)\n",
    "of.close()"
   ]
  },
  {
   "cell_type": "code",
   "execution_count": null,
   "id": "96b89e64",
   "metadata": {},
   "outputs": [],
   "source": [
    "#Write a Python program to copy the contents of a file to another file.\n",
    "\n",
    "#Ans-\n",
    "file = open(sFile, \"r\")\n",
    "texts = file.readlines()\n",
    "file.close()\n",
    "file = open(tFile, \"w\")\n",
    "for s in texts:\n",
    "    file.write(s)\n",
    "file.close()"
   ]
  },
  {
   "cell_type": "code",
   "execution_count": 4,
   "id": "3cc1157c",
   "metadata": {},
   "outputs": [],
   "source": [
    "#Explain Exception handling? What is an Error in Python?\n",
    "\n",
    "#Ans- In python to handle expected errors we use exception handling.\n",
    "#     A situation which is not defined by developer can be considered as error."
   ]
  },
  {
   "cell_type": "code",
   "execution_count": 5,
   "id": "19095bea",
   "metadata": {},
   "outputs": [],
   "source": [
    "#How many except statements can a try-except block have? Name Some built-in exception classes.\n",
    "\n",
    "#Ans- A except try-except block can have as much number of except block as there are types of\n",
    "#     errors that can be occured.ArithmeticException,NullPointerException,ArrayIndexOutOfBoundException\n",
    "#     are inbuilt exception classes."
   ]
  },
  {
   "cell_type": "code",
   "execution_count": 6,
   "id": "ebfce4b3",
   "metadata": {},
   "outputs": [],
   "source": [
    "#When will the else part of try-except-else be executed?\n",
    "\n",
    "#Ans- If the indicated except block doesnot execute then the else block executes."
   ]
  },
  {
   "cell_type": "code",
   "execution_count": 7,
   "id": "95b30b5e",
   "metadata": {},
   "outputs": [],
   "source": [
    "#Can one block of except statements handle multiple exception? \n",
    "\n",
    "#Ans- Yes,by giving comma(,) between each Exception we can handle multiple exception in one \n",
    "#     Exception block."
   ]
  },
  {
   "cell_type": "code",
   "execution_count": 8,
   "id": "f3bb4f87",
   "metadata": {},
   "outputs": [],
   "source": [
    "#When is the finally block executed?\n",
    "\n",
    "#Ans- Finally block executes whether there occurs an error or not."
   ]
  },
  {
   "cell_type": "code",
   "execution_count": 9,
   "id": "86e0e274",
   "metadata": {},
   "outputs": [],
   "source": [
    "#What happens when „1‟== 1 is executed?\n",
    "\n",
    "#Ans-It results in \"False\" as we are comparing string and integer."
   ]
  },
  {
   "cell_type": "code",
   "execution_count": 11,
   "id": "1f1d15c4",
   "metadata": {},
   "outputs": [
    {
     "name": "stdout",
     "output_type": "stream",
     "text": [
      "Except block\n",
      "Finally block\n"
     ]
    }
   ],
   "source": [
    "#How Do You Handle Exceptions With Try/Except/Finally In Python? Explain with coding snippets\n",
    "\n",
    "#Ans-\n",
    "try:\n",
    "    a=1/0\n",
    "except Exception as e:\n",
    "    print(\"Except block\")\n",
    "finally:\n",
    "    print(\"Finally block\")"
   ]
  },
  {
   "cell_type": "code",
   "execution_count": 6,
   "id": "55f42c43",
   "metadata": {},
   "outputs": [
    {
     "name": "stdout",
     "output_type": "stream",
     "text": [
      "Enter odd number : 1\n",
      "Good\n"
     ]
    }
   ],
   "source": [
    "#Write python program that user to enter only odd numbers, else will raise an exception.\n",
    "\n",
    "#Ans-\n",
    "try:\n",
    "    x=int(input(\"Enter odd number : \"))\n",
    "    if x%2==0:\n",
    "        raise Invalid\n",
    "    else:\n",
    "        print(\"Good\")\n",
    "except Invalid:\n",
    "    print(\"You entered even number\")"
   ]
  },
  {
   "cell_type": "code",
   "execution_count": 7,
   "id": "aa3c77dc",
   "metadata": {},
   "outputs": [],
   "source": [
    "#What are oops concepts? Is multiple inheritance supported in java\n",
    "\n",
    "#Ans-  A class is a user-defined from which objects are created.\n",
    "#      It represents the set of properties or methods that are common to all objects of one type.\n",
    "#      Using classes, you can create multiple objects with the same behavior instead of writing \n",
    "#      their code multiple times.\n",
    "#      Yes,Multiple inheritance is supported in java."
   ]
  },
  {
   "cell_type": "code",
   "execution_count": 8,
   "id": "d815af91",
   "metadata": {},
   "outputs": [],
   "source": [
    "#How to Define a Class in Python? What Is Self? Give An Example Of A Python Class\n",
    "\n",
    "#Ans- class can be defined by class keyword in python.\n",
    "#     self keyword is used when we make user defined function in class."
   ]
  },
  {
   "cell_type": "code",
   "execution_count": 13,
   "id": "c9966111",
   "metadata": {},
   "outputs": [
    {
     "name": "stdout",
     "output_type": "stream",
     "text": [
      "The area of the rectangle is: 15\n"
     ]
    }
   ],
   "source": [
    "#Write a Python class named Rectangle constructed by a length and width and a method which will compute the area of a rectangle\n",
    "\n",
    "#Ans- \n",
    "class Rectangle:\n",
    "    def __init__(self, length, width):\n",
    "        self.length = length\n",
    "        self.width = width\n",
    "    def area(self):\n",
    "        return self.length * self.width\n",
    "rect = Rectangle(5, 3)\n",
    "print(\"The area of the rectangle is:\", rect.area())\n"
   ]
  },
  {
   "cell_type": "code",
   "execution_count": 18,
   "id": "d85c701a",
   "metadata": {},
   "outputs": [
    {
     "name": "stdout",
     "output_type": "stream",
     "text": [
      "The area of the circle is :  113.04\n",
      "The perimeter of the circle is :  37.68\n"
     ]
    }
   ],
   "source": [
    "#Write a Python class named Circle constructed by a radius and two \n",
    "#methods which will compute the area and the perimeter of a circle\n",
    "\n",
    "#Ans-\n",
    "class Circle:\n",
    "    def __init__(self, radius):\n",
    "        self.radius = radius\n",
    "    def area(self):\n",
    "        return 3.14*(self.radius**2)\n",
    "    def perimeter(self):\n",
    "        return 2*3.14*self.radius\n",
    "circle = Circle(6)\n",
    "print(\"The area of the circle is : \",circle.area())\n",
    "print(\"The perimeter of the circle is : \",circle.perimeter())"
   ]
  },
  {
   "cell_type": "code",
   "execution_count": 19,
   "id": "c59eb830",
   "metadata": {},
   "outputs": [],
   "source": [
    "#Explain Inheritance in Python with an example? What is init? Or What Is A Constructor In Python?\n",
    "\n",
    "#Ans- When the properties of one class is derieved by the another class then it is called inheritance\n",
    "#     A constructor is the method which is called automatically when the object of class is created."
   ]
  },
  {
   "cell_type": "code",
   "execution_count": 20,
   "id": "e5263801",
   "metadata": {},
   "outputs": [],
   "source": [
    "#What is Instantiation in terms of OOP terminology? \n",
    "\n",
    "#Ans- In general terms, to “instantiate” an object just means to create it, again, as an instance of a class."
   ]
  },
  {
   "cell_type": "code",
   "execution_count": 21,
   "id": "05718112",
   "metadata": {},
   "outputs": [],
   "source": [
    "#What is used to check whether an object o is an instance of class A?\n",
    "\n",
    "#Ans-isinstance() method is used to check whether as object is an instance of any class."
   ]
  },
  {
   "cell_type": "code",
   "execution_count": 22,
   "id": "80e8fc2c",
   "metadata": {},
   "outputs": [],
   "source": [
    "#What relationship is appropriate for Course and Faculty? \n",
    "\n",
    "#Ans- One to One relationship is appropriate for course and faculty relationship as every faculty\n",
    "#     teach only one course"
   ]
  },
  {
   "cell_type": "code",
   "execution_count": null,
   "id": "06b4e1ac",
   "metadata": {},
   "outputs": [],
   "source": [
    "#What relationship is appropriate for Student and Person?\n",
    "\n",
    "#Ans- One to One relationship is appropriate for student and person as every person related to other\n",
    "#     with one relationship."
   ]
  }
 ],
 "metadata": {
  "kernelspec": {
   "display_name": "Python 3 (ipykernel)",
   "language": "python",
   "name": "python3"
  },
  "language_info": {
   "codemirror_mode": {
    "name": "ipython",
    "version": 3
   },
   "file_extension": ".py",
   "mimetype": "text/x-python",
   "name": "python",
   "nbconvert_exporter": "python",
   "pygments_lexer": "ipython3",
   "version": "3.9.12"
  }
 },
 "nbformat": 4,
 "nbformat_minor": 5
}
